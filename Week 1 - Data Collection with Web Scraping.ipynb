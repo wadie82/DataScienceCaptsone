{
    "cells": [
        {
            "metadata": {},
            "cell_type": "markdown",
            "source": "<center>\n    <img src=\"https://gitlab.com/ibm/skills-network/courses/placeholder101/-/raw/master/labs/module%201/images/IDSNlogo.png\" width=\"300\" alt=\"cognitiveclass.ai logo\"  />\n</center>\n"
        },
        {
            "metadata": {},
            "cell_type": "markdown",
            "source": "# **Space X  Falcon 9 First Stage Landing Prediction**\n"
        },
        {
            "metadata": {},
            "cell_type": "markdown",
            "source": "## Web scraping Falcon 9 and Falcon Heavy Launches Records from Wikipedia\n"
        },
        {
            "metadata": {},
            "cell_type": "markdown",
            "source": "Estimated time needed: **40** minutes\n"
        },
        {
            "metadata": {},
            "cell_type": "markdown",
            "source": "In this lab, you will be performing web scraping to collect Falcon 9 historical launch records from a Wikipedia page titled `List of Falcon 9 and Falcon Heavy launches`\n\n[https://en.wikipedia.org/wiki/List_of_Falcon\\_9\\_and_Falcon_Heavy_launches](https://en.wikipedia.org/wiki/List_of_Falcon\\_9\\_and_Falcon_Heavy_launches?utm_medium=Exinfluencer&utm_source=Exinfluencer&utm_content=000026UJ&utm_term=10006555&utm_id=NA-SkillsNetwork-Channel-SkillsNetworkCoursesIBMDS0321ENSkillsNetwork26802033-2021-01-01)\n"
        },
        {
            "metadata": {},
            "cell_type": "markdown",
            "source": "![](https://cf-courses-data.s3.us.cloud-object-storage.appdomain.cloud/IBM-DS0321EN-SkillsNetwork/labs/module\\_1\\_L2/images/Falcon9\\_rocket_family.svg)\n"
        },
        {
            "metadata": {},
            "cell_type": "markdown",
            "source": "Falcon 9 first stage will land successfully\n"
        },
        {
            "metadata": {},
            "cell_type": "markdown",
            "source": "![](https://cf-courses-data.s3.us.cloud-object-storage.appdomain.cloud/IBMDeveloperSkillsNetwork-DS0701EN-SkillsNetwork/api/Images/landing\\_1.gif)\n"
        },
        {
            "metadata": {},
            "cell_type": "markdown",
            "source": "Several examples of an unsuccessful landing are shown here:\n"
        },
        {
            "metadata": {},
            "cell_type": "markdown",
            "source": "![](https://cf-courses-data.s3.us.cloud-object-storage.appdomain.cloud/IBMDeveloperSkillsNetwork-DS0701EN-SkillsNetwork/api/Images/crash.gif)\n"
        },
        {
            "metadata": {},
            "cell_type": "markdown",
            "source": "More specifically, the launch records are stored in a HTML table shown below:\n"
        },
        {
            "metadata": {},
            "cell_type": "markdown",
            "source": "![](https://cf-courses-data.s3.us.cloud-object-storage.appdomain.cloud/IBM-DS0321EN-SkillsNetwork/labs/module\\_1\\_L2/images/falcon9-launches-wiki.png)\n"
        },
        {
            "metadata": {},
            "cell_type": "markdown",
            "source": "## Objectives\n\nWeb scrap Falcon 9 launch records with `BeautifulSoup`:\n\n*   Extract a Falcon 9 launch records HTML table from Wikipedia\n*   Parse the table and convert it into a Pandas data frame\n"
        },
        {
            "metadata": {},
            "cell_type": "markdown",
            "source": "First let's import required packages for this lab\n"
        },
        {
            "metadata": {},
            "cell_type": "code",
            "source": "!pip3 install beautifulsoup4\n!pip3 install requests",
            "execution_count": 43,
            "outputs": [
                {
                    "output_type": "stream",
                    "text": "Requirement already satisfied: beautifulsoup4 in /opt/conda/envs/Python-3.8-main/lib/python3.8/site-packages (4.9.3)\nRequirement already satisfied: soupsieve>1.2 in /opt/conda/envs/Python-3.8-main/lib/python3.8/site-packages (from beautifulsoup4) (2.2.1)\nRequirement already satisfied: requests in /opt/conda/envs/Python-3.8-main/lib/python3.8/site-packages (2.25.1)\nRequirement already satisfied: chardet<5,>=3.0.2 in /opt/conda/envs/Python-3.8-main/lib/python3.8/site-packages (from requests) (3.0.4)\nRequirement already satisfied: certifi>=2017.4.17 in /opt/conda/envs/Python-3.8-main/lib/python3.8/site-packages (from requests) (2021.10.8)\nRequirement already satisfied: idna<3,>=2.5 in /opt/conda/envs/Python-3.8-main/lib/python3.8/site-packages (from requests) (2.8)\nRequirement already satisfied: urllib3<1.27,>=1.21.1 in /opt/conda/envs/Python-3.8-main/lib/python3.8/site-packages (from requests) (1.26.6)\n",
                    "name": "stdout"
                }
            ]
        },
        {
            "metadata": {},
            "cell_type": "code",
            "source": "import sys\n\nimport requests\nfrom bs4 import BeautifulSoup\nimport re\nimport unicodedata\nimport pandas as pd",
            "execution_count": 44,
            "outputs": []
        },
        {
            "metadata": {},
            "cell_type": "markdown",
            "source": "and we will provide some helper functions for you to process web scraped HTML table\n"
        },
        {
            "metadata": {},
            "cell_type": "code",
            "source": "def date_time(table_cells):\n    \"\"\"\n    This function returns the data and time from the HTML  table cell\n    Input: the  element of a table data cell extracts extra row\n    \"\"\"\n    return [data_time.strip() for data_time in list(table_cells.strings)][0:2]\n\ndef booster_version(table_cells):\n    \"\"\"\n    This function returns the booster version from the HTML  table cell \n    Input: the  element of a table data cell extracts extra row\n    \"\"\"\n    out=''.join([booster_version for i,booster_version in enumerate( table_cells.strings) if i%2==0][0:-1])\n    return out\n\ndef landing_status(table_cells):\n    \"\"\"\n    This function returns the landing status from the HTML table cell \n    Input: the  element of a table data cell extracts extra row\n    \"\"\"\n    out=[i for i in table_cells.strings][0]\n    return out\n\n\ndef get_mass(table_cells):\n    mass=unicodedata.normalize(\"NFKD\", table_cells.text).strip()\n    if mass:\n        mass.find(\"kg\")\n        new_mass=mass[0:mass.find(\"kg\")+2]\n    else:\n        new_mass=0\n    return new_mass\n\n\ndef extract_column_from_header(row):\n    \"\"\"\n    This function returns the landing status from the HTML table cell \n    Input: the  element of a table data cell extracts extra row\n    \"\"\"\n    if (row.br):\n        row.br.extract()\n    if row.a:\n        row.a.extract()\n    if row.sup:\n        row.sup.extract()\n        \n    colunm_name = ' '.join(row.contents)\n    \n    # Filter the digit and empty names\n    if not(colunm_name.strip().isdigit()):\n        colunm_name = colunm_name.strip()\n        return colunm_name    \n",
            "execution_count": 45,
            "outputs": []
        },
        {
            "metadata": {},
            "cell_type": "markdown",
            "source": "To keep the lab tasks consistent, you will be asked to scrape the data from a snapshot of the  `List of Falcon 9 and Falcon Heavy launches` Wikipage updated on\n`9th June 2021`\n"
        },
        {
            "metadata": {},
            "cell_type": "code",
            "source": "static_url = \"https://en.wikipedia.org/w/index.php?title=List_of_Falcon_9_and_Falcon_Heavy_launches&oldid=1027686922\"",
            "execution_count": 46,
            "outputs": []
        },
        {
            "metadata": {},
            "cell_type": "markdown",
            "source": "Next, request the HTML page from the above URL and get a `response` object\n"
        },
        {
            "metadata": {},
            "cell_type": "markdown",
            "source": "### TASK 1: Request the Falcon9 Launch Wiki page from its URL\n"
        },
        {
            "metadata": {},
            "cell_type": "markdown",
            "source": "First, let's perform an HTTP GET method to request the Falcon9 Launch HTML page, as an HTTP response.\n"
        },
        {
            "metadata": {},
            "cell_type": "code",
            "source": "# use requests.get() method with the provided static_url\n# assign the response to a object\nresponse = requests.get(static_url)\n",
            "execution_count": 47,
            "outputs": []
        },
        {
            "metadata": {},
            "cell_type": "markdown",
            "source": "Create a `BeautifulSoup` object from the HTML `response`\n"
        },
        {
            "metadata": {},
            "cell_type": "code",
            "source": "# Use BeautifulSoup() to create a BeautifulSoup object from a response text content\n\nsoup = BeautifulSoup(response.text, \"html.parser\")",
            "execution_count": 48,
            "outputs": []
        },
        {
            "metadata": {},
            "cell_type": "markdown",
            "source": "Print the page title to verify if the `BeautifulSoup` object was created properly\n"
        },
        {
            "metadata": {},
            "cell_type": "code",
            "source": "# Use soup.title attribute\nsoup.title",
            "execution_count": 49,
            "outputs": [
                {
                    "output_type": "execute_result",
                    "execution_count": 49,
                    "data": {
                        "text/plain": "<title>List of Falcon 9 and Falcon Heavy launches - Wikipedia</title>"
                    },
                    "metadata": {}
                }
            ]
        },
        {
            "metadata": {},
            "cell_type": "markdown",
            "source": "### TASK 2: Extract all column/variable names from the HTML table header\n"
        },
        {
            "metadata": {},
            "cell_type": "markdown",
            "source": "Next, we want to collect all relevant column names from the HTML table header\n"
        },
        {
            "metadata": {},
            "cell_type": "markdown",
            "source": "Let's try to find all tables on the wiki page first. If you need to refresh your memory about `BeautifulSoup`, please check the external reference link towards the end of this lab\n"
        },
        {
            "metadata": {},
            "cell_type": "code",
            "source": "# Use the find_all function in the BeautifulSoup object, with element type `table`\n# Assign the result to a list called `html_tables`\nhtml_tables=soup.find_all('table')",
            "execution_count": 50,
            "outputs": []
        },
        {
            "metadata": {},
            "cell_type": "markdown",
            "source": "Starting from the third table is our target table contains the actual launch records.\n"
        },
        {
            "metadata": {},
            "cell_type": "code",
            "source": "# Let's print the third table and check its content\nfirst_launch_table = html_tables[2]\nprint(first_launch_table)",
            "execution_count": 51,
            "outputs": [
                {
                    "output_type": "stream",
                    "text": "<table class=\"wikitable plainrowheaders collapsible\" style=\"width: 100%;\">\n<tbody><tr>\n<th scope=\"col\">Flight No.\n</th>\n<th scope=\"col\">Date and<br/>time (<a href=\"/wiki/Coordinated_Universal_Time\" title=\"Coordinated Universal Time\">UTC</a>)\n</th>\n<th scope=\"col\"><a href=\"/wiki/List_of_Falcon_9_first-stage_boosters\" title=\"List of Falcon 9 first-stage boosters\">Version,<br/>Booster</a> <sup class=\"reference\" id=\"cite_ref-booster_11-0\"><a href=\"#cite_note-booster-11\">[b]</a></sup>\n</th>\n<th scope=\"col\">Launch site\n</th>\n<th scope=\"col\">Payload<sup class=\"reference\" id=\"cite_ref-Dragon_12-0\"><a href=\"#cite_note-Dragon-12\">[c]</a></sup>\n</th>\n<th scope=\"col\">Payload mass\n</th>\n<th scope=\"col\">Orbit\n</th>\n<th scope=\"col\">Customer\n</th>\n<th scope=\"col\">Launch<br/>outcome\n</th>\n<th scope=\"col\"><a href=\"/wiki/Falcon_9_first-stage_landing_tests\" title=\"Falcon 9 first-stage landing tests\">Booster<br/>landing</a>\n</th></tr>\n<tr>\n<th rowspan=\"2\" scope=\"row\" style=\"text-align:center;\">1\n</th>\n<td>4 June 2010,<br/>18:45\n</td>\n<td><a href=\"/wiki/Falcon_9_v1.0\" title=\"Falcon 9 v1.0\">F9 v1.0</a><sup class=\"reference\" id=\"cite_ref-MuskMay2012_13-0\"><a href=\"#cite_note-MuskMay2012-13\">[7]</a></sup><br/>B0003.1<sup class=\"reference\" id=\"cite_ref-block_numbers_14-0\"><a href=\"#cite_note-block_numbers-14\">[8]</a></sup>\n</td>\n<td><a href=\"/wiki/Cape_Canaveral_Space_Force_Station\" title=\"Cape Canaveral Space Force Station\">CCAFS</a>,<br/><a href=\"/wiki/Cape_Canaveral_Space_Launch_Complex_40\" title=\"Cape Canaveral Space Launch Complex 40\">SLC-40</a>\n</td>\n<td><a href=\"/wiki/Dragon_Spacecraft_Qualification_Unit\" title=\"Dragon Spacecraft Qualification Unit\">Dragon Spacecraft Qualification Unit</a>\n</td>\n<td>\n</td>\n<td><a href=\"/wiki/Low_Earth_orbit\" title=\"Low Earth orbit\">LEO</a>\n</td>\n<td><a href=\"/wiki/SpaceX\" title=\"SpaceX\">SpaceX</a>\n</td>\n<td class=\"table-success\" style=\"background: #9EFF9E; vertical-align: middle; text-align: center;\">Success\n</td>\n<td class=\"table-failure\" style=\"background: #FFC7C7; vertical-align: middle; text-align: center;\">Failure<sup class=\"reference\" id=\"cite_ref-ns20110930_15-0\"><a href=\"#cite_note-ns20110930-15\">[9]</a></sup><sup class=\"reference\" id=\"cite_ref-16\"><a href=\"#cite_note-16\">[10]</a></sup><br/><small>(parachute)</small>\n</td></tr>\n<tr>\n<td colspan=\"9\">First flight of Falcon 9 v1.0.<sup class=\"reference\" id=\"cite_ref-sfn20100604_17-0\"><a href=\"#cite_note-sfn20100604-17\">[11]</a></sup> Used a boilerplate version of Dragon capsule which was not designed to separate from the second stage.<small>(<a href=\"#First_flight_of_Falcon_9\">more details below</a>)</small> Attempted to recover the first stage by parachuting it into the ocean, but it burned up on reentry, before the parachutes even deployed.<sup class=\"reference\" id=\"cite_ref-parachute_18-0\"><a href=\"#cite_note-parachute-18\">[12]</a></sup>\n</td></tr>\n<tr>\n<th rowspan=\"2\" scope=\"row\" style=\"text-align:center;\">2\n</th>\n<td>8 December 2010,<br/>15:43<sup class=\"reference\" id=\"cite_ref-spaceflightnow_Clark_Launch_Report_19-0\"><a href=\"#cite_note-spaceflightnow_Clark_Launch_Report-19\">[13]</a></sup>\n</td>\n<td><a href=\"/wiki/Falcon_9_v1.0\" title=\"Falcon 9 v1.0\">F9 v1.0</a><sup class=\"reference\" id=\"cite_ref-MuskMay2012_13-1\"><a href=\"#cite_note-MuskMay2012-13\">[7]</a></sup><br/>B0004.1<sup class=\"reference\" id=\"cite_ref-block_numbers_14-1\"><a href=\"#cite_note-block_numbers-14\">[8]</a></sup>\n</td>\n<td><a href=\"/wiki/Cape_Canaveral_Space_Force_Station\" title=\"Cape Canaveral Space Force Station\">CCAFS</a>,<br/><a href=\"/wiki/Cape_Canaveral_Space_Launch_Complex_40\" title=\"Cape Canaveral Space Launch Complex 40\">SLC-40</a>\n</td>\n<td><a href=\"/wiki/SpaceX_Dragon\" title=\"SpaceX Dragon\">Dragon</a> <a class=\"mw-redirect\" href=\"/wiki/COTS_Demo_Flight_1\" title=\"COTS Demo Flight 1\">demo flight C1</a><br/>(Dragon C101)\n</td>\n<td>\n</td>\n<td><a href=\"/wiki/Low_Earth_orbit\" title=\"Low Earth orbit\">LEO</a> (<a href=\"/wiki/International_Space_Station\" title=\"International Space Station\">ISS</a>)\n</td>\n<td><div class=\"plainlist\">\n<ul><li><a href=\"/wiki/NASA\" title=\"NASA\">NASA</a> (<a href=\"/wiki/Commercial_Orbital_Transportation_Services\" title=\"Commercial Orbital Transportation Services\">COTS</a>)</li>\n<li><a href=\"/wiki/National_Reconnaissance_Office\" title=\"National Reconnaissance Office\">NRO</a></li></ul>\n</div>\n</td>\n<td class=\"table-success\" style=\"background: #9EFF9E; vertical-align: middle; text-align: center;\">Success<sup class=\"reference\" id=\"cite_ref-ns20110930_15-1\"><a href=\"#cite_note-ns20110930-15\">[9]</a></sup>\n</td>\n<td class=\"table-failure\" style=\"background: #FFC7C7; vertical-align: middle; text-align: center;\">Failure<sup class=\"reference\" id=\"cite_ref-ns20110930_15-2\"><a href=\"#cite_note-ns20110930-15\">[9]</a></sup><sup class=\"reference\" id=\"cite_ref-20\"><a href=\"#cite_note-20\">[14]</a></sup><br/><small>(parachute)</small>\n</td></tr>\n<tr>\n<td colspan=\"9\">Maiden flight of <a class=\"mw-redirect\" href=\"/wiki/Dragon_capsule\" title=\"Dragon capsule\">Dragon capsule</a>, consisting of over 3 hours of testing thruster maneuvering and reentry.<sup class=\"reference\" id=\"cite_ref-spaceflightnow_Clark_unleashing_Dragon_21-0\"><a href=\"#cite_note-spaceflightnow_Clark_unleashing_Dragon-21\">[15]</a></sup> Attempted to recover the first stage by parachuting it into the ocean, but it disintegrated upon reentry, before the parachutes were deployed.<sup class=\"reference\" id=\"cite_ref-parachute_18-1\"><a href=\"#cite_note-parachute-18\">[12]</a></sup> <small>(<a href=\"#COTS_demo_missions\">more details below</a>)</small> It also included two <a href=\"/wiki/CubeSat\" title=\"CubeSat\">CubeSats</a>,<sup class=\"reference\" id=\"cite_ref-NRO_Taps_Boeing_for_Next_Batch_of_CubeSats_22-0\"><a href=\"#cite_note-NRO_Taps_Boeing_for_Next_Batch_of_CubeSats-22\">[16]</a></sup> and a wheel of <a href=\"/wiki/Brou%C3%A8re\" title=\"Brou\u00e8re\">Brou\u00e8re</a> cheese.\n</td></tr>\n<tr>\n<th rowspan=\"2\" scope=\"row\" style=\"text-align:center;\">3\n</th>\n<td>22 May 2012,<br/>07:44<sup class=\"reference\" id=\"cite_ref-BBC_new_era_23-0\"><a href=\"#cite_note-BBC_new_era-23\">[17]</a></sup>\n</td>\n<td><a href=\"/wiki/Falcon_9_v1.0\" title=\"Falcon 9 v1.0\">F9 v1.0</a><sup class=\"reference\" id=\"cite_ref-MuskMay2012_13-2\"><a href=\"#cite_note-MuskMay2012-13\">[7]</a></sup><br/>B0005.1<sup class=\"reference\" id=\"cite_ref-block_numbers_14-2\"><a href=\"#cite_note-block_numbers-14\">[8]</a></sup>\n</td>\n<td><a href=\"/wiki/Cape_Canaveral_Space_Force_Station\" title=\"Cape Canaveral Space Force Station\">CCAFS</a>,<br/><a href=\"/wiki/Cape_Canaveral_Space_Launch_Complex_40\" title=\"Cape Canaveral Space Launch Complex 40\">SLC-40</a>\n</td>\n<td><a href=\"/wiki/SpaceX_Dragon\" title=\"SpaceX Dragon\">Dragon</a> <a class=\"mw-redirect\" href=\"/wiki/Dragon_C2%2B\" title=\"Dragon C2+\">demo flight C2+</a><sup class=\"reference\" id=\"cite_ref-C2_24-0\"><a href=\"#cite_note-C2-24\">[18]</a></sup><br/>(Dragon C102)\n</td>\n<td>525\u00a0kg (1,157\u00a0lb)<sup class=\"reference\" id=\"cite_ref-25\"><a href=\"#cite_note-25\">[19]</a></sup>\n</td>\n<td><a href=\"/wiki/Low_Earth_orbit\" title=\"Low Earth orbit\">LEO</a> (<a href=\"/wiki/International_Space_Station\" title=\"International Space Station\">ISS</a>)\n</td>\n<td><a href=\"/wiki/NASA\" title=\"NASA\">NASA</a> (<a href=\"/wiki/Commercial_Orbital_Transportation_Services\" title=\"Commercial Orbital Transportation Services\">COTS</a>)\n</td>\n<td class=\"table-success\" style=\"background: #9EFF9E; vertical-align: middle; text-align: center;\">Success<sup class=\"reference\" id=\"cite_ref-26\"><a href=\"#cite_note-26\">[20]</a></sup>\n</td>\n<td class=\"table-noAttempt\" style=\"background: #EEE; vertical-align: middle; white-space: nowrap; text-align: center;\">No attempt\n</td></tr>\n<tr>\n<td colspan=\"9\">Dragon spacecraft demonstrated a series of tests before it was allowed to approach the <a href=\"/wiki/International_Space_Station\" title=\"International Space Station\">International Space Station</a>. Two days later, it became the first commercial spacecraft to board the ISS.<sup class=\"reference\" id=\"cite_ref-BBC_new_era_23-1\"><a href=\"#cite_note-BBC_new_era-23\">[17]</a></sup> <small>(<a href=\"#COTS_demo_missions\">more details below</a>)</small>\n</td></tr>\n<tr>\n<th rowspan=\"3\" scope=\"row\" style=\"text-align:center;\">4\n</th>\n<td rowspan=\"2\">8 October 2012,<br/>00:35<sup class=\"reference\" id=\"cite_ref-SFN_LLog_27-0\"><a href=\"#cite_note-SFN_LLog-27\">[21]</a></sup>\n</td>\n<td rowspan=\"2\"><a href=\"/wiki/Falcon_9_v1.0\" title=\"Falcon 9 v1.0\">F9 v1.0</a><sup class=\"reference\" id=\"cite_ref-MuskMay2012_13-3\"><a href=\"#cite_note-MuskMay2012-13\">[7]</a></sup><br/>B0006.1<sup class=\"reference\" id=\"cite_ref-block_numbers_14-3\"><a href=\"#cite_note-block_numbers-14\">[8]</a></sup>\n</td>\n<td rowspan=\"2\"><a href=\"/wiki/Cape_Canaveral_Space_Force_Station\" title=\"Cape Canaveral Space Force Station\">CCAFS</a>,<br/><a href=\"/wiki/Cape_Canaveral_Space_Launch_Complex_40\" title=\"Cape Canaveral Space Launch Complex 40\">SLC-40</a>\n</td>\n<td><a href=\"/wiki/SpaceX_CRS-1\" title=\"SpaceX CRS-1\">SpaceX CRS-1</a><sup class=\"reference\" id=\"cite_ref-sxManifest20120925_28-0\"><a href=\"#cite_note-sxManifest20120925-28\">[22]</a></sup><br/>(Dragon C103)\n</td>\n<td>4,700\u00a0kg (10,400\u00a0lb)\n</td>\n<td><a href=\"/wiki/Low_Earth_orbit\" title=\"Low Earth orbit\">LEO</a> (<a href=\"/wiki/International_Space_Station\" title=\"International Space Station\">ISS</a>)\n</td>\n<td><a href=\"/wiki/NASA\" title=\"NASA\">NASA</a> (<a href=\"/wiki/Commercial_Resupply_Services\" title=\"Commercial Resupply Services\">CRS</a>)\n</td>\n<td class=\"table-success\" style=\"background: #9EFF9E; vertical-align: middle; text-align: center;\">Success\n</td>\n<td rowspan=\"2\" style=\"background:#ececec; text-align:center;\"><span class=\"nowrap\">No attempt</span>\n</td></tr>\n<tr>\n<td><a href=\"/wiki/Orbcomm_(satellite)\" title=\"Orbcomm (satellite)\">Orbcomm-OG2</a><sup class=\"reference\" id=\"cite_ref-Orbcomm_29-0\"><a href=\"#cite_note-Orbcomm-29\">[23]</a></sup>\n</td>\n<td>172\u00a0kg (379\u00a0lb)<sup class=\"reference\" id=\"cite_ref-gunter-og2_30-0\"><a href=\"#cite_note-gunter-og2-30\">[24]</a></sup>\n</td>\n<td><a href=\"/wiki/Low_Earth_orbit\" title=\"Low Earth orbit\">LEO</a>\n</td>\n<td><a href=\"/wiki/Orbcomm\" title=\"Orbcomm\">Orbcomm</a>\n</td>\n<td class=\"table-partial\" style=\"background: #FE9; vertical-align: middle; text-align: center;\">Partial failure<sup class=\"reference\" id=\"cite_ref-nyt-20121030_31-0\"><a href=\"#cite_note-nyt-20121030-31\">[25]</a></sup>\n</td></tr>\n<tr>\n<td colspan=\"9\">CRS-1 was successful, but the <a href=\"/wiki/Secondary_payload\" title=\"Secondary payload\">secondary payload</a> was inserted into an abnormally low orbit and subsequently lost. This was due to one of the nine <a href=\"/wiki/SpaceX_Merlin\" title=\"SpaceX Merlin\">Merlin engines</a> shutting down during the launch, and NASA declining a second reignition, as per <a href=\"/wiki/International_Space_Station\" title=\"International Space Station\">ISS</a> visiting vehicle safety rules, the primary payload owner is contractually allowed to decline a second reignition. NASA stated that this was because SpaceX could not guarantee a high enough likelihood of the second stage completing the second burn successfully which was required to avoid any risk of secondary payload's collision with the ISS.<sup class=\"reference\" id=\"cite_ref-OrbcommTotalLoss_32-0\"><a href=\"#cite_note-OrbcommTotalLoss-32\">[26]</a></sup><sup class=\"reference\" id=\"cite_ref-sn20121011_33-0\"><a href=\"#cite_note-sn20121011-33\">[27]</a></sup><sup class=\"reference\" id=\"cite_ref-34\"><a href=\"#cite_note-34\">[28]</a></sup>\n</td></tr>\n<tr>\n<th rowspan=\"2\" scope=\"row\" style=\"text-align:center;\">5\n</th>\n<td>1 March 2013,<br/>15:10\n</td>\n<td><a href=\"/wiki/Falcon_9_v1.0\" title=\"Falcon 9 v1.0\">F9 v1.0</a><sup class=\"reference\" id=\"cite_ref-MuskMay2012_13-4\"><a href=\"#cite_note-MuskMay2012-13\">[7]</a></sup><br/>B0007.1<sup class=\"reference\" id=\"cite_ref-block_numbers_14-4\"><a href=\"#cite_note-block_numbers-14\">[8]</a></sup>\n</td>\n<td><a href=\"/wiki/Cape_Canaveral_Space_Force_Station\" title=\"Cape Canaveral Space Force Station\">CCAFS</a>,<br/><a href=\"/wiki/Cape_Canaveral_Space_Launch_Complex_40\" title=\"Cape Canaveral Space Launch Complex 40\">SLC-40</a>\n</td>\n<td><a href=\"/wiki/SpaceX_CRS-2\" title=\"SpaceX CRS-2\">SpaceX CRS-2</a><sup class=\"reference\" id=\"cite_ref-sxManifest20120925_28-1\"><a href=\"#cite_note-sxManifest20120925-28\">[22]</a></sup><br/>(Dragon C104)\n</td>\n<td>4,877\u00a0kg (10,752\u00a0lb)\n</td>\n<td><a href=\"/wiki/Low_Earth_orbit\" title=\"Low Earth orbit\">LEO</a> (<a class=\"mw-redirect\" href=\"/wiki/ISS\" title=\"ISS\">ISS</a>)\n</td>\n<td><a href=\"/wiki/NASA\" title=\"NASA\">NASA</a> (<a href=\"/wiki/Commercial_Resupply_Services\" title=\"Commercial Resupply Services\">CRS</a>)\n</td>\n<td class=\"table-success\" style=\"background: #9EFF9E; vertical-align: middle; text-align: center;\">Success\n</td>\n<td class=\"table-noAttempt\" style=\"background: #EEE; vertical-align: middle; white-space: nowrap; text-align: center;\">No attempt\n</td></tr>\n<tr>\n<td colspan=\"9\">Last launch of the original Falcon 9 v1.0 <a href=\"/wiki/Launch_vehicle\" title=\"Launch vehicle\">launch vehicle</a>, first use of the unpressurized trunk section of Dragon.<sup class=\"reference\" id=\"cite_ref-sxf9_20110321_35-0\"><a href=\"#cite_note-sxf9_20110321-35\">[29]</a></sup>\n</td></tr>\n<tr>\n<th rowspan=\"2\" scope=\"row\" style=\"text-align:center;\">6\n</th>\n<td>29 September 2013,<br/>16:00<sup class=\"reference\" id=\"cite_ref-pa20130930_36-0\"><a href=\"#cite_note-pa20130930-36\">[30]</a></sup>\n</td>\n<td><a href=\"/wiki/Falcon_9_v1.1\" title=\"Falcon 9 v1.1\">F9 v1.1</a><sup class=\"reference\" id=\"cite_ref-MuskMay2012_13-5\"><a href=\"#cite_note-MuskMay2012-13\">[7]</a></sup><br/>B1003<sup class=\"reference\" id=\"cite_ref-block_numbers_14-5\"><a href=\"#cite_note-block_numbers-14\">[8]</a></sup>\n</td>\n<td><a class=\"mw-redirect\" href=\"/wiki/Vandenberg_Air_Force_Base\" title=\"Vandenberg Air Force Base\">VAFB</a>,<br/><a href=\"/wiki/Vandenberg_Space_Launch_Complex_4\" title=\"Vandenberg Space Launch Complex 4\">SLC-4E</a>\n</td>\n<td><a href=\"/wiki/CASSIOPE\" title=\"CASSIOPE\">CASSIOPE</a><sup class=\"reference\" id=\"cite_ref-sxManifest20120925_28-2\"><a href=\"#cite_note-sxManifest20120925-28\">[22]</a></sup><sup class=\"reference\" id=\"cite_ref-CASSIOPE_MDA_37-0\"><a href=\"#cite_note-CASSIOPE_MDA-37\">[31]</a></sup>\n</td>\n<td>500\u00a0kg (1,100\u00a0lb)\n</td>\n<td><a href=\"/wiki/Polar_orbit\" title=\"Polar orbit\">Polar orbit</a> <a href=\"/wiki/Low_Earth_orbit\" title=\"Low Earth orbit\">LEO</a>\n</td>\n<td><a href=\"/wiki/Maxar_Technologies\" title=\"Maxar Technologies\">MDA</a>\n</td>\n<td class=\"table-success\" style=\"background: #9EFF9E; vertical-align: middle; text-align: center;\">Success<sup class=\"reference\" id=\"cite_ref-pa20130930_36-1\"><a href=\"#cite_note-pa20130930-36\">[30]</a></sup>\n</td>\n<td class=\"table-no2\" style=\"background: #FFE3E3; color: black; vertical-align: middle; text-align: center;\">Uncontrolled<br/><small>(ocean)</small><sup class=\"reference\" id=\"cite_ref-ocean_landing_38-0\"><a href=\"#cite_note-ocean_landing-38\">[d]</a></sup>\n</td></tr>\n<tr>\n<td colspan=\"9\">First commercial mission with a private customer, first launch from Vandenberg, and demonstration flight of Falcon 9 v1.1 with an improved 13-tonne to LEO capacity.<sup class=\"reference\" id=\"cite_ref-sxf9_20110321_35-1\"><a href=\"#cite_note-sxf9_20110321-35\">[29]</a></sup> After separation from the second stage carrying Canadian commercial and scientific satellites, the first stage booster performed a controlled reentry,<sup class=\"reference\" id=\"cite_ref-39\"><a href=\"#cite_note-39\">[32]</a></sup> and an <a href=\"/wiki/Falcon_9_first-stage_landing_tests\" title=\"Falcon 9 first-stage landing tests\">ocean touchdown test</a> for the first time. This provided good test data, even though the booster started rolling as it neared the ocean, leading to the shutdown of the central engine as the roll depleted it of fuel, resulting in a hard impact with the ocean.<sup class=\"reference\" id=\"cite_ref-pa20130930_36-2\"><a href=\"#cite_note-pa20130930-36\">[30]</a></sup> This was the first known attempt of a rocket engine being lit to perform a supersonic retro propulsion, and allowed SpaceX to enter a public-private partnership with <a href=\"/wiki/NASA\" title=\"NASA\">NASA</a> and its Mars entry, descent, and landing technologies research projects.<sup class=\"reference\" id=\"cite_ref-40\"><a href=\"#cite_note-40\">[33]</a></sup> <small>(<a href=\"#Maiden_flight_of_v1.1\">more details below</a>)</small>\n</td></tr>\n<tr>\n<th rowspan=\"2\" scope=\"row\" style=\"text-align:center;\">7\n</th>\n<td>3 December 2013,<br/>22:41<sup class=\"reference\" id=\"cite_ref-sfn_wwls20130624_41-0\"><a href=\"#cite_note-sfn_wwls20130624-41\">[34]</a></sup>\n</td>\n<td><a href=\"/wiki/Falcon_9_v1.1\" title=\"Falcon 9 v1.1\">F9 v1.1</a><br/>B1004\n</td>\n<td><a href=\"/wiki/Cape_Canaveral_Space_Force_Station\" title=\"Cape Canaveral Space Force Station\">CCAFS</a>,<br/><a href=\"/wiki/Cape_Canaveral_Space_Launch_Complex_40\" title=\"Cape Canaveral Space Launch Complex 40\">SLC-40</a>\n</td>\n<td><a href=\"/wiki/SES-8\" title=\"SES-8\">SES-8</a><sup class=\"reference\" id=\"cite_ref-sxManifest20120925_28-3\"><a href=\"#cite_note-sxManifest20120925-28\">[22]</a></sup><sup class=\"reference\" id=\"cite_ref-spx-pr_42-0\"><a href=\"#cite_note-spx-pr-42\">[35]</a></sup><sup class=\"reference\" id=\"cite_ref-aw20110323_43-0\"><a href=\"#cite_note-aw20110323-43\">[36]</a></sup>\n</td>\n<td>3,170\u00a0kg (6,990\u00a0lb)\n</td>\n<td><a href=\"/wiki/Geostationary_transfer_orbit\" title=\"Geostationary transfer orbit\">GTO</a>\n</td>\n<td><a href=\"/wiki/SES_S.A.\" title=\"SES S.A.\">SES</a>\n</td>\n<td class=\"table-success\" style=\"background: #9EFF9E; vertical-align: middle; text-align: center;\">Success<sup class=\"reference\" id=\"cite_ref-SNMissionStatus7_44-0\"><a href=\"#cite_note-SNMissionStatus7-44\">[37]</a></sup>\n</td>\n<td class=\"table-noAttempt\" style=\"background: #EEE; vertical-align: middle; white-space: nowrap; text-align: center;\">No attempt<br/><sup class=\"reference\" id=\"cite_ref-sf10120131203_45-0\"><a href=\"#cite_note-sf10120131203-45\">[38]</a></sup>\n</td></tr>\n<tr>\n<td colspan=\"9\">First <a href=\"/wiki/Geostationary_transfer_orbit\" title=\"Geostationary transfer orbit\">Geostationary transfer orbit</a> (GTO) launch for Falcon 9,<sup class=\"reference\" id=\"cite_ref-spx-pr_42-1\"><a href=\"#cite_note-spx-pr-42\">[35]</a></sup> and first successful reignition of the second stage.<sup class=\"reference\" id=\"cite_ref-46\"><a href=\"#cite_note-46\">[39]</a></sup> SES-8 was inserted into a <a href=\"/wiki/Geostationary_transfer_orbit\" title=\"Geostationary transfer orbit\">Super-Synchronous Transfer Orbit</a> of 79,341\u00a0km (49,300\u00a0mi) in apogee with an <a href=\"/wiki/Orbital_inclination\" title=\"Orbital inclination\">inclination</a> of 20.55\u00b0 to the <a href=\"/wiki/Equator\" title=\"Equator\">equator</a>.\n</td></tr></tbody></table>\n",
                    "name": "stdout"
                }
            ]
        },
        {
            "metadata": {},
            "cell_type": "markdown",
            "source": "You should able to see the columns names embedded in the table header elements `<th>` as follows:\n"
        },
        {
            "metadata": {},
            "cell_type": "markdown",
            "source": "```\n<tr>\n<th scope=\"col\">Flight No.\n</th>\n<th scope=\"col\">Date and<br/>time (<a href=\"/wiki/Coordinated_Universal_Time\" title=\"Coordinated Universal Time\">UTC</a>)\n</th>\n<th scope=\"col\"><a href=\"/wiki/List_of_Falcon_9_first-stage_boosters\" title=\"List of Falcon 9 first-stage boosters\">Version,<br/>Booster</a> <sup class=\"reference\" id=\"cite_ref-booster_11-0\"><a href=\"#cite_note-booster-11\">[b]</a></sup>\n</th>\n<th scope=\"col\">Launch site\n</th>\n<th scope=\"col\">Payload<sup class=\"reference\" id=\"cite_ref-Dragon_12-0\"><a href=\"#cite_note-Dragon-12\">[c]</a></sup>\n</th>\n<th scope=\"col\">Payload mass\n</th>\n<th scope=\"col\">Orbit\n</th>\n<th scope=\"col\">Customer\n</th>\n<th scope=\"col\">Launch<br/>outcome\n</th>\n<th scope=\"col\"><a href=\"/wiki/Falcon_9_first-stage_landing_tests\" title=\"Falcon 9 first-stage landing tests\">Booster<br/>landing</a>\n</th></tr>\n```\n"
        },
        {
            "metadata": {},
            "cell_type": "markdown",
            "source": "Next, we just need to iterate through the `<th>` elements and apply the provided `extract_column_from_header()` to extract column name one by one\n"
        },
        {
            "metadata": {},
            "cell_type": "code",
            "source": "# Apply find_all() function with `th` element on first_launch_table\n# Iterate each th element and apply the provided extract_column_from_header() to get a column name\n# Append the Non-empty column name (`if name is not None and len(name) > 0`) into a list called column_names\n\nallth = first_launch_table.find_all('th')\n\ncolumn_names = []\n\n\nfor i, item in enumerate(allth):\n    if(extract_column_from_header(item) != None and len(extract_column_from_header(item)) > 0):\n        column_names.append( extract_column_from_header(item))\n",
            "execution_count": 52,
            "outputs": []
        },
        {
            "metadata": {},
            "cell_type": "markdown",
            "source": "Check the extracted column names\n"
        },
        {
            "metadata": {},
            "cell_type": "code",
            "source": "print(column_names)",
            "execution_count": 53,
            "outputs": [
                {
                    "output_type": "stream",
                    "text": "['Flight No.', 'Date and time ( )', 'Launch site', 'Payload', 'Payload mass', 'Orbit', 'Customer', 'Launch outcome']\n",
                    "name": "stdout"
                }
            ]
        },
        {
            "metadata": {},
            "cell_type": "markdown",
            "source": "## TASK 3: Create a data frame by parsing the launch HTML tables\n"
        },
        {
            "metadata": {},
            "cell_type": "markdown",
            "source": "We will create an empty dictionary with keys from the extracted column names in the previous task. Later, this dictionary will be converted into a Pandas dataframe\n"
        },
        {
            "metadata": {},
            "cell_type": "code",
            "source": "launch_dict= dict.fromkeys(column_names)\n\n# Remove an irrelvant column\ndel launch_dict['Date and time ( )']\n\n# Let's initial the launch_dict with each value to be an empty list\nlaunch_dict['Flight No.'] = []\nlaunch_dict['Launch site'] = []\nlaunch_dict['Payload'] = []\nlaunch_dict['Payload mass'] = []\nlaunch_dict['Orbit'] = []\nlaunch_dict['Customer'] = []\nlaunch_dict['Launch outcome'] = []\n# Added some new columns\nlaunch_dict['Version Booster']=[]\nlaunch_dict['Booster landing']=[]\nlaunch_dict['Date']=[]\nlaunch_dict['Time']=[]",
            "execution_count": 54,
            "outputs": []
        },
        {
            "metadata": {},
            "cell_type": "markdown",
            "source": "Next, we just need to fill up the `launch_dict` with launch records extracted from table rows.\n"
        },
        {
            "metadata": {},
            "cell_type": "markdown",
            "source": "Usually, HTML tables in Wiki pages are likely to contain unexpected annotations and other types of noises, such as reference links `B0004.1[8]`, missing values `N/A [e]`, inconsistent formatting, etc.\n"
        },
        {
            "metadata": {},
            "cell_type": "markdown",
            "source": "To simplify the parsing process, we have provided an incomplete code snippet below to help you to fill up the `launch_dict`. Please complete the following code snippet with TODOs or you can choose to write your own logic to parse all launch tables:\n"
        },
        {
            "metadata": {},
            "cell_type": "code",
            "source": "extracted_row = 0\n#Extract each table \nfor table_number,table in enumerate(soup.find_all('table',\"wikitable plainrowheaders collapsible\")):\n   # get table row \n    for rows in table.find_all(\"tr\"):\n        #check to see if first table heading is as number corresponding to launch a number \n        if rows.th:\n            if rows.th.string:\n                flight_number=rows.th.string.strip()\n                flag=flight_number.isdigit()\n        else:\n            flag=False\n        #get table element \n        row=rows.find_all('td')\n       \n        #if it is number save cells in a dictonary \n        if flag:\n            extracted_row += 1\n            # Flight Number value\n            # TODO: Append the flight_number into launch_dict with key `Flight No.`\n            launch_dict[\"Flight No.\"].append(flight_number)\n            print(\"flight_number :\",flight_number)\n            \n            \n            # Date value\n            # TODO: Append the date into launch_dict with key `Date`\n            datatimelist=date_time(row[0])\n            date = datatimelist[0].strip(',')\n            launch_dict[\"Date\"].append(date)\n            print(\"date :\",date)\n            \n            # Time value\n            # TODO: Append the time into launch_dict with key `Time`\n            time = datatimelist[1]\n            launch_dict[\"Time\"].append(time)\n            print(\"time :\",time)\n              \n            # Booster version\n            # TODO: Append the bv into launch_dict with key `Version Booster`\n            bv=booster_version(row[1])\n            if not(bv):\n                bv=row[1].a.string\n            launch_dict[\"Version Booster\"].append(bv)\n            print(\"Version Booster :\",bv)\n            \n            # Launch Site\n            # TODO: Append the bv into launch_dict with key `Launch Site`\n            launch_site = row[2].a.string\n            launch_dict[\"Launch site\"].append(launch_site)\n            print(\"launch_site :\",launch_site)\n            \n            # Payload\n            # TODO: Append the payload into launch_dict with key `Payload`\n            payload = row[3].a.string\n            launch_dict[\"Payload\"].append(payload)\n            print(\"payload :\",payload)\n            \n            # Payload Mass\n            # TODO: Append the payload_mass into launch_dict with key `Payload mass`\n            payload_mass = get_mass(row[4])\n            launch_dict[\"Payload mass\"].append(payload_mass)\n            print(\"payload_mass :\",payload_mass)\n            \n            # Orbit\n            # TODO: Append the orbit into launch_dict with key `Orbit`\n            orbit = row[5].a.string\n            launch_dict[\"Orbit\"].append(orbit)\n            print(\"orbit :\",orbit)\n            \n            # Customer\n            # TODO: Append the customer into launch_dict with key `Customer`\n            if(row[6].a == None):\n                customer=\"No customer\"\n            else:\n                customer = row[6].a.string\n            launch_dict[\"Customer\"].append(customer)\n            print(\"customer :\",customer)\n            \n            # Launch outcome\n            # TODO: Append the launch_outcome into launch_dict with key `Launch outcome`\n            launch_outcome = list(row[7].strings)[0].strip()\n            launch_dict[\"Launch outcome\"].append(launch_outcome)\n            print(\"launch_outcome :\",launch_outcome)\n            \n            # Booster landing\n            # TODO: Append the launch_outcome into launch_dict with key `Booster landing`\n            booster_landing = landing_status(row[8]).strip()\n            launch_dict[\"Booster landing\"].append(booster_landing)\n            print(\"booster_landing :\",booster_landing,'\\n')\n            ",
            "execution_count": 55,
            "outputs": [
                {
                    "output_type": "stream",
                    "text": "flight_number : 1\ndate : 4 June 2010\ntime : 18:45\nVersion Booster : F9 v1.0B0003.1\nlaunch_site : CCAFS\npayload : Dragon Spacecraft Qualification Unit\npayload_mass : 0\norbit : LEO\ncustomer : SpaceX\nlaunch_outcome : Success\nbooster_landing : Failure \n\nflight_number : 2\ndate : 8 December 2010\ntime : 15:43\nVersion Booster : F9 v1.0B0004.1\nlaunch_site : CCAFS\npayload : Dragon\npayload_mass : 0\norbit : LEO\ncustomer : NASA\nlaunch_outcome : Success\nbooster_landing : Failure \n\nflight_number : 3\ndate : 22 May 2012\ntime : 07:44\nVersion Booster : F9 v1.0B0005.1\nlaunch_site : CCAFS\npayload : Dragon\npayload_mass : 525 kg\norbit : LEO\ncustomer : NASA\nlaunch_outcome : Success\nbooster_landing : No attempt \n\nflight_number : 4\ndate : 8 October 2012\ntime : 00:35\nVersion Booster : F9 v1.0B0006.1\nlaunch_site : CCAFS\npayload : SpaceX CRS-1\npayload_mass : 4,700 kg\norbit : LEO\ncustomer : NASA\nlaunch_outcome : Success\nbooster_landing : No attempt \n\nflight_number : 5\ndate : 1 March 2013\ntime : 15:10\nVersion Booster : F9 v1.0B0007.1\nlaunch_site : CCAFS\npayload : SpaceX CRS-2\npayload_mass : 4,877 kg\norbit : LEO\ncustomer : NASA\nlaunch_outcome : Success\nbooster_landing : No attempt \n\nflight_number : 6\ndate : 29 September 2013\ntime : 16:00\nVersion Booster : F9 v1.1B1003\nlaunch_site : VAFB\npayload : CASSIOPE\npayload_mass : 500 kg\norbit : Polar orbit\ncustomer : MDA\nlaunch_outcome : Success\nbooster_landing : Uncontrolled \n\nflight_number : 7\ndate : 3 December 2013\ntime : 22:41\nVersion Booster : F9 v1.1\nlaunch_site : CCAFS\npayload : SES-8\npayload_mass : 3,170 kg\norbit : GTO\ncustomer : SES\nlaunch_outcome : Success\nbooster_landing : No attempt \n\nflight_number : 8\ndate : 6 January 2014\ntime : 22:06\nVersion Booster : F9 v1.1\nlaunch_site : CCAFS\npayload : Thaicom 6\npayload_mass : 3,325 kg\norbit : GTO\ncustomer : Thaicom\nlaunch_outcome : Success\nbooster_landing : No attempt \n\nflight_number : 9\ndate : 18 April 2014\ntime : 19:25\nVersion Booster : F9 v1.1\nlaunch_site : Cape Canaveral\npayload : SpaceX CRS-3\npayload_mass : 2,296 kg\norbit : LEO\ncustomer : NASA\nlaunch_outcome : Success\nbooster_landing : Controlled \n\nflight_number : 10\ndate : 14 July 2014\ntime : 15:15\nVersion Booster : F9 v1.1\nlaunch_site : Cape Canaveral\npayload : Orbcomm-OG2\npayload_mass : 1,316 kg\norbit : LEO\ncustomer : Orbcomm\nlaunch_outcome : Success\nbooster_landing : Controlled \n\nflight_number : 11\ndate : 5 August 2014\ntime : 08:00\nVersion Booster : F9 v1.1\nlaunch_site : Cape Canaveral\npayload : AsiaSat 8\npayload_mass : 4,535 kg\norbit : GTO\ncustomer : AsiaSat\nlaunch_outcome : Success\nbooster_landing : No attempt \n\nflight_number : 12\ndate : 7 September 2014\ntime : 05:00\nVersion Booster : F9 v1.1\nlaunch_site : Cape Canaveral\npayload : AsiaSat 6\npayload_mass : 4,428 kg\norbit : GTO\ncustomer : AsiaSat\nlaunch_outcome : Success\nbooster_landing : No attempt \n\nflight_number : 13\ndate : 21 September 2014\ntime : 05:52\nVersion Booster : F9 v1.1\nlaunch_site : Cape Canaveral\npayload : SpaceX CRS-4\npayload_mass : 2,216 kg\norbit : LEO\ncustomer : NASA\nlaunch_outcome : Success\nbooster_landing : Uncontrolled \n\nflight_number : 14\ndate : 10 January 2015\ntime : 09:47\nVersion Booster : F9 v1.1\nlaunch_site : Cape Canaveral\npayload : SpaceX CRS-5\npayload_mass : 2,395 kg\norbit : LEO\ncustomer : NASA\nlaunch_outcome : Success\nbooster_landing : Failure \n\nflight_number : 15\ndate : 11 February 2015\ntime : 23:03\nVersion Booster : F9 v1.1\nlaunch_site : Cape Canaveral\npayload : DSCOVR\npayload_mass : 570 kg\norbit : HEO\ncustomer : USAF\nlaunch_outcome : Success\nbooster_landing : Controlled \n\nflight_number : 16\ndate : 2 March 2015\ntime : 03:50\nVersion Booster : F9 v1.1\nlaunch_site : Cape Canaveral\npayload : ABS-3A\npayload_mass : 4,159 kg\norbit : GTO\ncustomer : ABS\nlaunch_outcome : Success\nbooster_landing : No attempt \n\nflight_number : 17\ndate : 14 April 2015\ntime : 20:10\nVersion Booster : F9 v1.1\nlaunch_site : Cape Canaveral\npayload : SpaceX CRS-6\npayload_mass : 1,898 kg\norbit : LEO\ncustomer : NASA\nlaunch_outcome : Success\nbooster_landing : Failure \n\nflight_number : 18\ndate : 27 April 2015\ntime : 23:03\nVersion Booster : F9 v1.1\nlaunch_site : Cape Canaveral\npayload : T\u00fcrkmen\u00c4lem 52\u00b0E / MonacoSAT\npayload_mass : 4,707 kg\norbit : GTO\ncustomer : None\nlaunch_outcome : Success\nbooster_landing : No attempt \n\nflight_number : 19\ndate : 28 June 2015\ntime : 14:21\nVersion Booster : F9 v1.1\nlaunch_site : Cape Canaveral\npayload : SpaceX CRS-7\npayload_mass : 1,952 kg\norbit : LEO\ncustomer : NASA\nlaunch_outcome : Failure\nbooster_landing : Precluded \n\nflight_number : 20\ndate : 22 December 2015\ntime : 01:29\nVersion Booster : F9 FT\nlaunch_site : Cape Canaveral\npayload : Orbcomm-OG2\npayload_mass : 2,034 kg\norbit : LEO\ncustomer : Orbcomm\nlaunch_outcome : Success\nbooster_landing : Success \n\nflight_number : 21\ndate : 17 January 2016\ntime : 18:42\nVersion Booster : F9 v1.1\nlaunch_site : VAFB\npayload : Jason-3\npayload_mass : 553 kg\norbit : LEO\ncustomer : NASA\nlaunch_outcome : Success\nbooster_landing : Failure \n\nflight_number : 22\ndate : 4 March 2016\ntime : 23:35\nVersion Booster : F9 FT\nlaunch_site : Cape Canaveral\npayload : SES-9\npayload_mass : 5,271 kg\norbit : GTO\ncustomer : SES\nlaunch_outcome : Success\nbooster_landing : Failure \n\nflight_number : 23\ndate : 8 April 2016\ntime : 20:43\nVersion Booster : F9 FT\nlaunch_site : Cape Canaveral\npayload : SpaceX CRS-8\npayload_mass : 3,136 kg\norbit : LEO\ncustomer : NASA\nlaunch_outcome : Success\nbooster_landing : Success \n\nflight_number : 24\ndate : 6 May 2016\ntime : 05:21\nVersion Booster : F9 FT\nlaunch_site : Cape Canaveral\npayload : JCSAT-14\npayload_mass : 4,696 kg\norbit : GTO\ncustomer : SKY Perfect JSAT Group\nlaunch_outcome : Success\nbooster_landing : Success \n\nflight_number : 25\ndate : 27 May 2016\ntime : 21:39\nVersion Booster : F9 FT\nlaunch_site : Cape Canaveral\npayload : Thaicom 8\npayload_mass : 3,100 kg\norbit : GTO\ncustomer : Thaicom\nlaunch_outcome : Success\nbooster_landing : Success \n\nflight_number : 26\ndate : 15 June 2016\ntime : 14:29\nVersion Booster : F9 FT\nlaunch_site : Cape Canaveral\npayload : ABS-2A\npayload_mass : 3,600 kg\norbit : GTO\ncustomer : ABS\nlaunch_outcome : Success\nbooster_landing : Failure \n\nflight_number : 27\ndate : 18 July 2016\ntime : 04:45\nVersion Booster : F9 FT\nlaunch_site : Cape Canaveral\npayload : SpaceX CRS-9\npayload_mass : 2,257 kg\norbit : LEO\ncustomer : NASA\nlaunch_outcome : Success\nbooster_landing : Success \n\nflight_number : 28\ndate : 14 August 2016\ntime : 05:26\nVersion Booster : F9 FT\nlaunch_site : Cape Canaveral\npayload : JCSAT-16\npayload_mass : 4,600 kg\norbit : GTO\ncustomer : SKY Perfect JSAT Group\nlaunch_outcome : Success\nbooster_landing : Success \n\nflight_number : 29\ndate : 14 January 2017\ntime : 17:54\nVersion Booster : F9 FT\nlaunch_site : VAFB\npayload : Iridium NEXT\npayload_mass : 9,600 kg\norbit : Polar\ncustomer : Iridium Communications\nlaunch_outcome : Success\nbooster_landing : Success \n\nflight_number : 30\ndate : 19 February 2017\ntime : 14:39\nVersion Booster : F9 FT\nlaunch_site : KSC\npayload : SpaceX CRS-10\npayload_mass : 2,490 kg\norbit : LEO\ncustomer : NASA\nlaunch_outcome : Success\nbooster_landing : Success \n\nflight_number : 31\ndate : 16 March 2017\ntime : 06:00\nVersion Booster : F9 FT\nlaunch_site : KSC\npayload : EchoStar 23\npayload_mass : 5,600 kg\norbit : GTO\ncustomer : EchoStar\nlaunch_outcome : Success\nbooster_landing : No attempt \n\nflight_number : 32\ndate : 30 March 2017\ntime : 22:27\nVersion Booster : F9 FT\u267a\nlaunch_site : KSC\npayload : SES-10\npayload_mass : 5,300 kg\norbit : GTO\ncustomer : SES\nlaunch_outcome : Success\nbooster_landing : Success \n\nflight_number : 33\ndate : 1 May 2017\ntime : 11:15\nVersion Booster : F9 FT\nlaunch_site : KSC\npayload : NROL-76\npayload_mass : C\norbit : LEO\ncustomer : NRO\nlaunch_outcome : Success\nbooster_landing : Success \n\nflight_number : 34\ndate : 15 May 2017\ntime : 23:21\nVersion Booster : F9 FT\nlaunch_site : KSC\npayload : Inmarsat-5 F4\npayload_mass : 6,070 kg\norbit : GTO\ncustomer : Inmarsat\nlaunch_outcome : Success\nbooster_landing : No attempt \n\nflight_number : 35\ndate : 3 June 2017\ntime : 21:07\nVersion Booster : F9 FT\nlaunch_site : KSC\npayload : SpaceX CRS-11\npayload_mass : 2,708 kg\norbit : LEO\ncustomer : NASA\nlaunch_outcome : Success\nbooster_landing : Success \n\nflight_number : 36\ndate : 23 June 2017\ntime : 19:10\nVersion Booster : F9 FTB1029.2\nlaunch_site : KSC\npayload : BulgariaSat-1\npayload_mass : 3,669 kg\norbit : GTO\ncustomer : Bulsatcom\nlaunch_outcome : Success\nbooster_landing : Success \n\nflight_number : 37\ndate : 25 June 2017\ntime : 20:25\nVersion Booster : F9 FT\nlaunch_site : VAFB\npayload : Iridium NEXT\npayload_mass : 9,600 kg\norbit : LEO\ncustomer : Iridium Communications\nlaunch_outcome : Success\nbooster_landing : Success \n\nflight_number : 38\ndate : 5 July 2017\ntime : 23:38\nVersion Booster : F9 FT\nlaunch_site : KSC\npayload : Intelsat 35e\npayload_mass : 6,761 kg\norbit : GTO\ncustomer : Intelsat\nlaunch_outcome : Success\nbooster_landing : No attempt \n\nflight_number : 39\ndate : 14 August 2017\ntime : 16:31\nVersion Booster : F9 B4\nlaunch_site : KSC\npayload : SpaceX CRS-12\npayload_mass : 3,310 kg\norbit : LEO\ncustomer : NASA\nlaunch_outcome : Success\nbooster_landing : Success \n\nflight_number : 40\ndate : 24 August 2017\ntime : 18:51\nVersion Booster : F9 FT\nlaunch_site : VAFB\npayload : Formosat-5\npayload_mass : 475 kg\norbit : SSO\ncustomer : NSPO\nlaunch_outcome : Success\nbooster_landing : Success \n\nflight_number : 41\ndate : 7 September 2017\ntime : 14:00\nVersion Booster : F9 B4\nlaunch_site : KSC\npayload : Boeing X-37B\npayload_mass : 4,990 kg\norbit : LEO\ncustomer : USAF\nlaunch_outcome : Success\nbooster_landing : Success \n\nflight_number : 42\ndate : 9 October 2017\ntime : 12:37\nVersion Booster : F9 B4\nlaunch_site : VAFB\npayload : Iridium NEXT\npayload_mass : 9,600 kg\norbit : Polar\ncustomer : Iridium Communications\nlaunch_outcome : Success\nbooster_landing : Success \n\nflight_number : 43\ndate : 11 October 2017\ntime : 22:53:00\nVersion Booster : F9 FTB1031.2\nlaunch_site : KSC\npayload : SES-11\npayload_mass : 5,200 kg\norbit : GTO\ncustomer : SES S.A.\nlaunch_outcome : Success\nbooster_landing : Success \n\nflight_number : 44\ndate : 30 October 2017\ntime : 19:34\nVersion Booster : F9 B4\nlaunch_site : KSC\npayload : Koreasat 5A\npayload_mass : 3,500 kg\norbit : GTO\ncustomer : KT Corporation\nlaunch_outcome : Success\nbooster_landing : Success \n\nflight_number : 45\ndate : 15 December 2017\ntime : 15:36\nVersion Booster : F9 FTB1035.2\nlaunch_site : Cape Canaveral\npayload : SpaceX CRS-13\npayload_mass : 2,205 kg\norbit : LEO\ncustomer : NASA\nlaunch_outcome : Success\nbooster_landing : Success \n\nflight_number : 46\ndate : 23 December 2017\ntime : 01:27\nVersion Booster : F9 FTB1036.2\nlaunch_site : VAFB\npayload : Iridium NEXT\npayload_mass : 9,600 kg\norbit : Polar\ncustomer : Iridium Communications\nlaunch_outcome : Success\nbooster_landing : Controlled \n\nflight_number : 47\ndate : 8 January 2018\ntime : 01:00\nVersion Booster : F9 B4\nlaunch_site : CCAFS\npayload : Zuma\npayload_mass : C\norbit : LEO\ncustomer : Northrop Grumman\nlaunch_outcome : Success\nbooster_landing : Success \n\nflight_number : 48\ndate : 31 January 2018\ntime : 21:25\nVersion Booster : F9 FTB1032.2\nlaunch_site : CCAFS\npayload : GovSat-1\npayload_mass : 4,230 kg\norbit : GTO\ncustomer : SES\nlaunch_outcome : Success\nbooster_landing : Controlled \n\nflight_number : 49\ndate : 22 February 2018\ntime : 14:17\nVersion Booster : F9 FTB1038.2\nlaunch_site : VAFB\npayload : Paz\npayload_mass : 2,150 kg\norbit : SSO\ncustomer : Hisdesat\nlaunch_outcome : Success\nbooster_landing : No attempt \n\nflight_number : 50\ndate : 6 March 2018\ntime : 05:33\nVersion Booster : F9 B4\nlaunch_site : CCAFS\npayload : Hispasat 30W-6\npayload_mass : 6,092 kg\norbit : GTO\ncustomer : Hispasat\nlaunch_outcome : Success\nbooster_landing : No attempt \n\nflight_number : 51\ndate : 30 March 2018\ntime : 14:14\nVersion Booster : F9 B4B1041.2\nlaunch_site : VAFB\npayload : Iridium NEXT\npayload_mass : 9,600 kg\norbit : Polar\ncustomer : Iridium Communications\nlaunch_outcome : Success\nbooster_landing : No attempt \n\nflight_number : 52\ndate : 2 April 2018\ntime : 20:30\nVersion Booster : F9 B4B1039.2\nlaunch_site : CCAFS\npayload : SpaceX CRS-14\npayload_mass : 2,647 kg\norbit : LEO\ncustomer : NASA\nlaunch_outcome : Success\nbooster_landing : No attempt \n\nflight_number : 53\ndate : 18 April 2018\ntime : 22:51\nVersion Booster : F9 B4\nlaunch_site : CCAFS\npayload : Transiting Exoplanet Survey Satellite\npayload_mass : 362 kg\norbit : HEO\ncustomer : NASA\nlaunch_outcome : Success\nbooster_landing : Success \n\nflight_number : 54\ndate : 11 May 2018\ntime : 20:14\nVersion Booster : F9 B5B1046.1\nlaunch_site : KSC\npayload : Bangabandhu-1\npayload_mass : 3,600 kg\norbit : GTO\ncustomer : Thales-Alenia\nlaunch_outcome : Success\nbooster_landing : Success \n\nflight_number : 55\ndate : 22 May 2018\ntime : 19:47\nVersion Booster : F9 B4B1043.2\nlaunch_site : VAFB\npayload : Iridium NEXT\npayload_mass : 6,460 kg\norbit : Polar\ncustomer : Iridium Communications\nlaunch_outcome : Success\nbooster_landing : No attempt \n\nflight_number : 56\ndate : 4 June 2018\ntime : 04:45\nVersion Booster : F9 B4B1040.2\nlaunch_site : CCAFS\npayload : SES-12\npayload_mass : 5,384 kg\norbit : GTO\ncustomer : SES\nlaunch_outcome : Success\nbooster_landing : No attempt \n\nflight_number : 57\ndate : 29 June 2018\ntime : 09:42\nVersion Booster : F9 B4B1045.2\nlaunch_site : CCAFS\npayload : SpaceX CRS-15\npayload_mass : 2,697 kg\norbit : LEO\ncustomer : NASA\nlaunch_outcome : Success\nbooster_landing : No attempt \n\nflight_number : 58\ndate : 22 July 2018\ntime : 05:50\nVersion Booster : F9 B5\nlaunch_site : CCAFS\npayload : Telstar 19V\npayload_mass : 7,075 kg\norbit : GTO\ncustomer : Telesat\nlaunch_outcome : Success\nbooster_landing : Success \n\nflight_number : 59\ndate : 25 July 2018\ntime : 11:39\nVersion Booster : F9 B5B1048\nlaunch_site : VAFB\npayload : Iridium NEXT\npayload_mass : 9,600 kg\norbit : Polar\ncustomer : Iridium Communications\nlaunch_outcome : Success\nbooster_landing : Success \n\nflight_number : 60\ndate : 7 August 2018\ntime : 05:18\nVersion Booster : F9 B5B1046.2\nlaunch_site : CCAFS\npayload : Merah Putih\npayload_mass : 5,800 kg\norbit : GTO\ncustomer : Telkom Indonesia\nlaunch_outcome : Success\nbooster_landing : Success \n\nflight_number : 61\ndate : 10 September 2018\ntime : 04:45\nVersion Booster : F9 B5\nlaunch_site : CCAFS\npayload : Telstar 18V\npayload_mass : 7,060 kg\norbit : GTO\ncustomer : Telesat\nlaunch_outcome : Success\nbooster_landing : Success \n\nflight_number : 62\ndate : 8 October 2018\ntime : 02:22\nVersion Booster : F9 B5B1048.2\nlaunch_site : VAFB\npayload : SAOCOM 1A\npayload_mass : 3,000 kg\norbit : SSO\ncustomer : CONAE\nlaunch_outcome : Success\nbooster_landing : Success \n\nflight_number : 63\ndate : 15 November 2018\ntime : 20:46\nVersion Booster : F9 B5B1047.2\nlaunch_site : KSC\npayload : Es'hail 2\npayload_mass : 5,300 kg\norbit : GTO\ncustomer : Es'hailSat\nlaunch_outcome : Success\nbooster_landing : Success \n\nflight_number : 64\ndate : 3 December 2018\ntime : 18:34:05\nVersion Booster : F9 B5B1046.3\nlaunch_site : VAFB\npayload : SSO-A\npayload_mass : ~4,000 kg\norbit : SSO\ncustomer : Spaceflight Industries\nlaunch_outcome : Success\nbooster_landing : Success \n\nflight_number : 65\ndate : 5 December 2018\ntime : 18:16\nVersion Booster : F9 B5\nlaunch_site : CCAFS\npayload : SpaceX CRS-16\npayload_mass : 2,500 kg\norbit : LEO\ncustomer : NASA\nlaunch_outcome : Success\nbooster_landing : Failure \n\nflight_number : 66\ndate : 23 December 2018\ntime : 13:51\nVersion Booster : F9 B5\nlaunch_site : CCAFS\npayload : GPS III\npayload_mass : 4,400 kg\norbit : MEO\ncustomer : USAF\nlaunch_outcome : Success\nbooster_landing : No attempt \n\nflight_number : 67\ndate : 11 January 2019\ntime : 15:31\nVersion Booster : F9 B5B1049.2\nlaunch_site : VAFB\npayload : Iridium NEXT\npayload_mass : 9,600 kg\norbit : Polar\ncustomer : Iridium Communications\nlaunch_outcome : Success\nbooster_landing : Success \n\nflight_number : 68\ndate : 22 February 2019\ntime : 01:45\nVersion Booster : F9 B5B1048.3\nlaunch_site : CCAFS\npayload : Nusantara Satu\npayload_mass : 4,850 kg\norbit : GTO\ncustomer : PSN\nlaunch_outcome : Success\nbooster_landing : Success \n\nflight_number : 69\ndate : 2 March 2019\ntime : 07:49\nVersion Booster : F9 B5[268]\nlaunch_site : KSC\npayload : Crew Dragon Demo-1\npayload_mass : 12,055 kg\norbit : LEO\ncustomer : NASA\nlaunch_outcome : Success\nbooster_landing : Success \n\nflight_number : 70\ndate : 4 May 2019\ntime : 06:48\nVersion Booster : F9 B5\nlaunch_site : CCAFS\npayload : SpaceX CRS-17\npayload_mass : 2,495 kg\norbit : LEO\ncustomer : NASA\nlaunch_outcome : Success\nbooster_landing : Success \n\nflight_number : 71\ndate : 24 May 2019\ntime : 02:30\nVersion Booster : F9 B5B1049.3\nlaunch_site : CCAFS\npayload : Starlink\npayload_mass : 13,620 kg\norbit : LEO\ncustomer : SpaceX\nlaunch_outcome : Success\nbooster_landing : Success \n\nflight_number : 72\ndate : 12 June 2019\ntime : 14:17\nVersion Booster : F9 B5B1051.2\nlaunch_site : VAFB\npayload : RADARSAT Constellation\npayload_mass : 4,200 kg\norbit : SSO\ncustomer : Canadian Space Agency\nlaunch_outcome : Success\nbooster_landing : Success \n\nflight_number : 73\ndate : 25 July 2019\ntime : 22:01\nVersion Booster : F9 B5B1056.2\nlaunch_site : CCAFS\npayload : SpaceX CRS-18\npayload_mass : 2,268 kg\norbit : LEO\ncustomer : NASA\nlaunch_outcome : Success\nbooster_landing : Success \n\nflight_number : 74\ndate : 6 August 2019\ntime : 23:23\nVersion Booster : F9 B5B1047.3\nlaunch_site : CCAFS\npayload : AMOS-17\npayload_mass : 6,500 kg\norbit : GTO\ncustomer : Spacecom\nlaunch_outcome : Success\nbooster_landing : No attempt \n\nflight_number : 75\ndate : 11 November 2019\ntime : 14:56\nVersion Booster : F9 B5\nlaunch_site : CCAFS\npayload : Starlink\npayload_mass : 15,600 kg\norbit : LEO\ncustomer : SpaceX\nlaunch_outcome : Success\nbooster_landing : Success \n\nflight_number : 76\ndate : 5 December 2019\ntime : 17:29\nVersion Booster : F9 B5\nlaunch_site : CCAFS\npayload : SpaceX CRS-19\npayload_mass : 2,617 kg\norbit : LEO\ncustomer : NASA\nlaunch_outcome : Success\nbooster_landing : Success \n\nflight_number : 77\ndate : 17 December 2019\ntime : 00:10\nVersion Booster : F9 B5B1056.3\nlaunch_site : CCAFS\npayload : JCSat-18\npayload_mass : 6,956 kg\norbit : GTO\ncustomer : Sky Perfect JSAT\nlaunch_outcome : Success\nbooster_landing : Success \n\nflight_number : 78\ndate : 7 January 2020\ntime : 02:19:21\nVersion Booster : F9 B5\nlaunch_site : CCAFS\npayload : Starlink\npayload_mass : 15,600 kg\norbit : LEO\ncustomer : SpaceX\nlaunch_outcome : Success\nbooster_landing : Success \n\nflight_number : 79\ndate : 19 January 2020\ntime : 15:30\nVersion Booster : F9 B5\nlaunch_site : KSC\npayload : Crew Dragon in-flight abort test\npayload_mass : 12,050 kg\norbit : Sub-orbital\ncustomer : NASA\nlaunch_outcome : Success\nbooster_landing : No attempt \n\nflight_number : 80\ndate : 29 January 2020\ntime : 14:07\nVersion Booster : F9 B5\nlaunch_site : CCAFS\npayload : Starlink\npayload_mass : 15,600 kg\norbit : LEO\ncustomer : SpaceX\nlaunch_outcome : Success\nbooster_landing : Success \n\nflight_number : 81\ndate : 17 February 2020\ntime : 15:05\nVersion Booster : F9 B5\nlaunch_site : CCAFS\npayload : Starlink\npayload_mass : 15,600 kg\norbit : LEO\ncustomer : SpaceX\nlaunch_outcome : Success\nbooster_landing : Failure \n\nflight_number : 82\ndate : 7 March 2020\ntime : 04:50\nVersion Booster : F9 B5\nlaunch_site : CCAFS\npayload : SpaceX CRS-20\npayload_mass : 1,977 kg\norbit : LEO\ncustomer : NASA\nlaunch_outcome : Success\nbooster_landing : Success \n\nflight_number : 83\ndate : 18 March 2020\ntime : 12:16\nVersion Booster : F9 B5\nlaunch_site : KSC\npayload : Starlink\npayload_mass : 15,600 kg\norbit : LEO\ncustomer : SpaceX\nlaunch_outcome : Success\nbooster_landing : Failure \n\nflight_number : 84\ndate : 22 April 2020\ntime : 19:30\nVersion Booster : F9 B5\nlaunch_site : KSC\npayload : Starlink\npayload_mass : 15,600 kg\norbit : LEO\ncustomer : SpaceX\nlaunch_outcome : Success\nbooster_landing : Success \n\nflight_number : 85\ndate : 30 May 2020\ntime : 19:22\nVersion Booster : F9 B5\nlaunch_site : KSC\npayload : Crew Dragon Demo-2\npayload_mass : 12,530 kg\norbit : LEO\ncustomer : NASA\nlaunch_outcome : Success\nbooster_landing : Success \n\nflight_number : 86\ndate : 4 June 2020\ntime : 01:25\nVersion Booster : F9 B5\nlaunch_site : CCAFS\npayload : Starlink\npayload_mass : 15,600 kg\norbit : LEO\ncustomer : SpaceX\nlaunch_outcome : Success\nbooster_landing : Success \n\nflight_number : 87\ndate : 13 June 2020\ntime : 09:21\nVersion Booster : F9 B5\nlaunch_site : CCAFS\npayload : Starlink\npayload_mass : 15,410 kg\norbit : LEO\ncustomer : SpaceX\nlaunch_outcome : Success\nbooster_landing : Success \n\nflight_number : 88\ndate : 30 June 2020\ntime : 20:10:46\nVersion Booster : F9 B5\nlaunch_site : CCAFS\npayload : GPS III\npayload_mass : 4,311 kg\norbit : MEO\ncustomer : U.S. Space Force\nlaunch_outcome : Success\nbooster_landing : Success \n\nflight_number : 89\ndate : 20 July 2020\ntime : 21:30\nVersion Booster : F9 B5B1058.2\nlaunch_site : CCAFS\npayload : ANASIS-II\npayload_mass : 5,000\u20136,000 kg\norbit : GTO\ncustomer : Republic of Korea Army\nlaunch_outcome : Success\nbooster_landing : Success \n\nflight_number : 90\ndate : 7 August 2020\ntime : 05:12\nVersion Booster : F9 B5\nlaunch_site : KSC\npayload : Starlink\npayload_mass : 14,932 kg\norbit : LEO\ncustomer : SpaceX\nlaunch_outcome : Success\nbooster_landing : Success \n\nflight_number : 91\ndate : 18 August 2020\ntime : 14:31\nVersion Booster : F9 B5B1049.6\nlaunch_site : CCAFS\npayload : Starlink\npayload_mass : ~15,440 kg\norbit : LEO\ncustomer : SpaceX\nlaunch_outcome : Success\nbooster_landing : Success \n\nflight_number : 92\ndate : 30 August 2020\ntime : 23:18\nVersion Booster : F9 B5\nlaunch_site : CCAFS\npayload : SAOCOM 1B\npayload_mass : 3,130 kg\norbit : SSO\ncustomer : CONAE\nlaunch_outcome : Success\nbooster_landing : Success \n\nflight_number : 93\ndate : 3 September 2020\ntime : 12:46:14\nVersion Booster : F9 B5B1060.2\nlaunch_site : KSC\npayload : Starlink\npayload_mass : 15,600 kg\norbit : LEO\ncustomer : SpaceX\nlaunch_outcome : Success\nbooster_landing : Success \n\nflight_number : 94\ndate : 6 October 2020\ntime : 11:29:34\nVersion Booster : F9 B5B1058.3\nlaunch_site : KSC\npayload : Starlink\npayload_mass : 15,600 kg\norbit : LEO\ncustomer : SpaceX\nlaunch_outcome : Success\nbooster_landing : Success \n\nflight_number : 95\ndate : 18 October 2020\ntime : 12:25:57\nVersion Booster : F9 B5B1051.6\nlaunch_site : KSC\npayload : Starlink\npayload_mass : 15,600 kg\norbit : LEO\ncustomer : SpaceX\nlaunch_outcome : Success\nbooster_landing : Success \n\nflight_number : 96\ndate : 24 October 2020\ntime : 15:31:34\nVersion Booster : F9 B5\nlaunch_site : CCAFS\npayload : Starlink\npayload_mass : 15,600 kg\norbit : LEO\ncustomer : SpaceX\nlaunch_outcome : Success\nbooster_landing : Success \n\nflight_number : 97\ndate : 5 November 2020\ntime : 23:24:23\nVersion Booster : F9 B5\nlaunch_site : CCAFS\npayload : GPS III\npayload_mass : 4,311 kg\norbit : MEO\ncustomer : USSF\nlaunch_outcome : Success\nbooster_landing : Success \n\nflight_number : 98\ndate : 16 November 2020\ntime : 00:27\nVersion Booster : F9 B5\nlaunch_site : KSC\npayload : Crew-1\npayload_mass : ~12,500 kg\norbit : LEO\ncustomer : NASA\nlaunch_outcome : Success\nbooster_landing : Success \n\nflight_number : 99\ndate : 21 November 2020\ntime : 17:17:08\nVersion Booster : F9 B5\nlaunch_site : VAFB\npayload : Sentinel-6 Michael Freilich (Jason-CS A)\npayload_mass : 1,192 kg\norbit : LEO\ncustomer : NASA\nlaunch_outcome : Success\nbooster_landing : Success \n\nflight_number : 100\ndate : 25 November 2020\ntime : 02:13\nVersion Booster : F9 B5 \u267a\nlaunch_site : CCAFS\npayload : Starlink\npayload_mass : 15,600 kg\norbit : LEO\ncustomer : SpaceX\nlaunch_outcome : Success\nbooster_landing : Success \n\nflight_number : 101\ndate : 6 December 2020\ntime : 16:17:08\nVersion Booster : F9 B5 \u267a\nlaunch_site : KSC\npayload : SpaceX CRS-21\npayload_mass : 2,972 kg\norbit : LEO\ncustomer : NASA\nlaunch_outcome : Success\nbooster_landing : Success \n\nflight_number : 102\ndate : 13 December 2020\ntime : 17:30:00\nVersion Booster : F9 B5 \u267a\nlaunch_site : CCSFS\npayload : SXM-7\npayload_mass : 7,000 kg\norbit : GTO\ncustomer : Sirius XM\nlaunch_outcome : Success\nbooster_landing : Success \n\nflight_number : 103\ndate : 19 December 2020\ntime : 14:00:00\nVersion Booster : F9 B5 \u267a\nlaunch_site : KSC\npayload : NROL-108\npayload_mass : C\norbit : LEO\ncustomer : NRO\nlaunch_outcome : Success\nbooster_landing : Success \n\nflight_number : 104\ndate : 8 January 2021\ntime : 02:15\nVersion Booster : F9 B5\nlaunch_site : CCSFS\npayload : T\u00fcrksat 5A\npayload_mass : 3,500 kg\norbit : GTO\ncustomer : T\u00fcrksat\nlaunch_outcome : Success\nbooster_landing : Success \n\nflight_number : 105\ndate : 20 January 2021\ntime : 13:02\nVersion Booster : F9 B5B1051.8\nlaunch_site : KSC\npayload : Starlink\npayload_mass : 15,600 kg\norbit : LEO\ncustomer : SpaceX\nlaunch_outcome : Success\nbooster_landing : Success \n\nflight_number : 106\ndate : 24 January 2021\ntime : 15:00\nVersion Booster : F9 B5B1058.5\nlaunch_site : CCSFS\npayload : Transporter-1\npayload_mass : ~5,000 kg\norbit : SSO\ncustomer : No customer\nlaunch_outcome : Success\nbooster_landing : Success \n\nflight_number : 107\ndate : 4 February 2021\ntime : 06:19\nVersion Booster : F9 B5 \u267a\nlaunch_site : CCSFS\npayload : Starlink\npayload_mass : 15,600 kg\norbit : LEO\ncustomer : SpaceX\nlaunch_outcome : Success\nbooster_landing : Success \n\nflight_number : 108\ndate : 16 February 2021\ntime : 03:59:37\nVersion Booster : F9 B5 \u267a\nlaunch_site : CCSFS\npayload : Starlink\npayload_mass : 15,600 kg\norbit : LEO\ncustomer : SpaceX\nlaunch_outcome : Success\nbooster_landing : Failure \n\nflight_number : 109\ndate : 4 March 2021\ntime : 08:24\nVersion Booster : F9 B5 \u267a\nlaunch_site : KSC\npayload : Starlink\npayload_mass : 15,600 kg\norbit : LEO\ncustomer : SpaceX\nlaunch_outcome : Success\nbooster_landing : Success \n\nflight_number : 110\ndate : 11 March 2021\ntime : 08:13:29\nVersion Booster : F9 B5 \u267a\nlaunch_site : CCSFS\npayload : Starlink\npayload_mass : 15,600 kg\norbit : LEO\ncustomer : SpaceX\nlaunch_outcome : Success\nbooster_landing : Success \n\nflight_number : 111\ndate : 14 March 2021\ntime : 10:01\nVersion Booster : F9 B5 \u267a\nlaunch_site : KSC\npayload : Starlink\npayload_mass : 15,600 kg\norbit : LEO\ncustomer : SpaceX\nlaunch_outcome : Success\nbooster_landing : Success \n\nflight_number : 112\ndate : 24 March 2021\ntime : 08:28\nVersion Booster : F9 B5B1060.6\nlaunch_site : CCSFS\npayload : Starlink\npayload_mass : 15,600 kg\norbit : LEO\ncustomer : SpaceX\nlaunch_outcome : Success\nbooster_landing : Success \n\nflight_number : 113\ndate : 7 April 2021\n",
                    "name": "stdout"
                },
                {
                    "output_type": "stream",
                    "text": "time : 16:34\nVersion Booster : F9 B5 \u267a\nlaunch_site : CCSFS\npayload : Starlink\npayload_mass : 15,600 kg\norbit : LEO\ncustomer : SpaceX\nlaunch_outcome : Success\nbooster_landing : Success \n\nflight_number : 114\ndate : 23 April 2021\ntime : 9:49\nVersion Booster : F9 B5B1061.2\nlaunch_site : KSC\npayload : Crew-2\npayload_mass : ~13,000 kg\norbit : LEO\ncustomer : NASA\nlaunch_outcome : Success\nbooster_landing : Success \n\nflight_number : 115\ndate : 29 April 2021\ntime : 03:44\nVersion Booster : F9 B5B1060.7\nlaunch_site : CCSFS\npayload : Starlink\npayload_mass : 15,600 kg\norbit : LEO\ncustomer : SpaceX\nlaunch_outcome : Success\nbooster_landing : Success \n\nflight_number : 116\ndate : 4 May 2021\ntime : 19:01\nVersion Booster : F9 B5B1049.9\nlaunch_site : KSC\npayload : Starlink\npayload_mass : 15,600 kg\norbit : LEO\ncustomer : SpaceX\nlaunch_outcome : Success\nbooster_landing : Success \n\nflight_number : 117\ndate : 9 May 2021\ntime : 06:42\nVersion Booster : F9 B5B1051.10\nlaunch_site : CCSFS\npayload : Starlink\npayload_mass : 15,600 kg\norbit : LEO\ncustomer : SpaceX\nlaunch_outcome : Success\nbooster_landing : Success \n\nflight_number : 118\ndate : 15 May 2021\ntime : 22:56\nVersion Booster : F9 B5B1058.8\nlaunch_site : KSC\npayload : Starlink\npayload_mass : ~14,000 kg\norbit : LEO\ncustomer : SpaceX\nlaunch_outcome : Success\nbooster_landing : Success \n\nflight_number : 119\ndate : 26 May 2021\ntime : 18:59\nVersion Booster : F9 B5B1063.2\nlaunch_site : CCSFS\npayload : Starlink\npayload_mass : 15,600 kg\norbit : LEO\ncustomer : SpaceX\nlaunch_outcome : Success\nbooster_landing : Success \n\nflight_number : 120\ndate : 3 June 2021\ntime : 17:29\nVersion Booster : F9 B5B1067.1\nlaunch_site : KSC\npayload : SpaceX CRS-22\npayload_mass : 3,328 kg\norbit : LEO\ncustomer : NASA\nlaunch_outcome : Success\nbooster_landing : Success \n\nflight_number : 121\ndate : 6 June 2021\ntime : 04:26\nVersion Booster : F9 B5\nlaunch_site : CCSFS\npayload : SXM-8\npayload_mass : 7,000 kg\norbit : GTO\ncustomer : Sirius XM\nlaunch_outcome : Success\nbooster_landing : Success \n\n",
                    "name": "stdout"
                }
            ]
        },
        {
            "metadata": {},
            "cell_type": "markdown",
            "source": "After you have fill in the parsed launch record values into `launch_dict`, you can create a dataframe from it.\n"
        },
        {
            "metadata": {},
            "cell_type": "code",
            "source": "\ndf=pd.DataFrame(launch_dict)\ndf.head()",
            "execution_count": 56,
            "outputs": [
                {
                    "output_type": "execute_result",
                    "execution_count": 56,
                    "data": {
                        "text/plain": "  Flight No. Launch site                               Payload Payload mass  \\\n0          1       CCAFS  Dragon Spacecraft Qualification Unit            0   \n1          2       CCAFS                                Dragon            0   \n2          3       CCAFS                                Dragon       525 kg   \n3          4       CCAFS                          SpaceX CRS-1     4,700 kg   \n4          5       CCAFS                          SpaceX CRS-2     4,877 kg   \n\n  Orbit Customer Launch outcome Version Booster Booster landing  \\\n0   LEO   SpaceX        Success  F9 v1.0B0003.1         Failure   \n1   LEO     NASA        Success  F9 v1.0B0004.1         Failure   \n2   LEO     NASA        Success  F9 v1.0B0005.1      No attempt   \n3   LEO     NASA        Success  F9 v1.0B0006.1      No attempt   \n4   LEO     NASA        Success  F9 v1.0B0007.1      No attempt   \n\n              Date   Time  \n0      4 June 2010  18:45  \n1  8 December 2010  15:43  \n2      22 May 2012  07:44  \n3   8 October 2012  00:35  \n4     1 March 2013  15:10  ",
                        "text/html": "<div>\n<style scoped>\n    .dataframe tbody tr th:only-of-type {\n        vertical-align: middle;\n    }\n\n    .dataframe tbody tr th {\n        vertical-align: top;\n    }\n\n    .dataframe thead th {\n        text-align: right;\n    }\n</style>\n<table border=\"1\" class=\"dataframe\">\n  <thead>\n    <tr style=\"text-align: right;\">\n      <th></th>\n      <th>Flight No.</th>\n      <th>Launch site</th>\n      <th>Payload</th>\n      <th>Payload mass</th>\n      <th>Orbit</th>\n      <th>Customer</th>\n      <th>Launch outcome</th>\n      <th>Version Booster</th>\n      <th>Booster landing</th>\n      <th>Date</th>\n      <th>Time</th>\n    </tr>\n  </thead>\n  <tbody>\n    <tr>\n      <th>0</th>\n      <td>1</td>\n      <td>CCAFS</td>\n      <td>Dragon Spacecraft Qualification Unit</td>\n      <td>0</td>\n      <td>LEO</td>\n      <td>SpaceX</td>\n      <td>Success</td>\n      <td>F9 v1.0B0003.1</td>\n      <td>Failure</td>\n      <td>4 June 2010</td>\n      <td>18:45</td>\n    </tr>\n    <tr>\n      <th>1</th>\n      <td>2</td>\n      <td>CCAFS</td>\n      <td>Dragon</td>\n      <td>0</td>\n      <td>LEO</td>\n      <td>NASA</td>\n      <td>Success</td>\n      <td>F9 v1.0B0004.1</td>\n      <td>Failure</td>\n      <td>8 December 2010</td>\n      <td>15:43</td>\n    </tr>\n    <tr>\n      <th>2</th>\n      <td>3</td>\n      <td>CCAFS</td>\n      <td>Dragon</td>\n      <td>525 kg</td>\n      <td>LEO</td>\n      <td>NASA</td>\n      <td>Success</td>\n      <td>F9 v1.0B0005.1</td>\n      <td>No attempt</td>\n      <td>22 May 2012</td>\n      <td>07:44</td>\n    </tr>\n    <tr>\n      <th>3</th>\n      <td>4</td>\n      <td>CCAFS</td>\n      <td>SpaceX CRS-1</td>\n      <td>4,700 kg</td>\n      <td>LEO</td>\n      <td>NASA</td>\n      <td>Success</td>\n      <td>F9 v1.0B0006.1</td>\n      <td>No attempt</td>\n      <td>8 October 2012</td>\n      <td>00:35</td>\n    </tr>\n    <tr>\n      <th>4</th>\n      <td>5</td>\n      <td>CCAFS</td>\n      <td>SpaceX CRS-2</td>\n      <td>4,877 kg</td>\n      <td>LEO</td>\n      <td>NASA</td>\n      <td>Success</td>\n      <td>F9 v1.0B0007.1</td>\n      <td>No attempt</td>\n      <td>1 March 2013</td>\n      <td>15:10</td>\n    </tr>\n  </tbody>\n</table>\n</div>"
                    },
                    "metadata": {}
                }
            ]
        },
        {
            "metadata": {},
            "cell_type": "markdown",
            "source": "We can now export it to a <b>CSV</b> for the next section, but to make the answers consistent and in case you have difficulties finishing this lab.\n\nFollowing labs will be using a provided dataset to make each lab independent.\n"
        },
        {
            "metadata": {},
            "cell_type": "markdown",
            "source": "<code>df.to_csv('spacex_web_scraped.csv', index=False)</code>\n"
        },
        {
            "metadata": {},
            "cell_type": "markdown",
            "source": "## Authors\n"
        },
        {
            "metadata": {},
            "cell_type": "markdown",
            "source": "<a href=\"https://www.linkedin.com/in/yan-luo-96288783/?utm_medium=Exinfluencer&utm_source=Exinfluencer&utm_content=000026UJ&utm_term=10006555&utm_id=NA-SkillsNetwork-Channel-SkillsNetworkCoursesIBMDS0321ENSkillsNetwork26802033-2021-01-01\">Yan Luo</a>\n"
        },
        {
            "metadata": {},
            "cell_type": "markdown",
            "source": "<a href=\"https://www.linkedin.com/in/nayefaboutayoun/?utm_medium=Exinfluencer&utm_source=Exinfluencer&utm_content=000026UJ&utm_term=10006555&utm_id=NA-SkillsNetwork-Channel-SkillsNetworkCoursesIBMDS0321ENSkillsNetwork26802033-2021-01-01\">Nayef Abou Tayoun</a>\n"
        },
        {
            "metadata": {},
            "cell_type": "markdown",
            "source": "## Change Log\n"
        },
        {
            "metadata": {},
            "cell_type": "markdown",
            "source": "| Date (YYYY-MM-DD) | Version | Changed By | Change Description          |\n| ----------------- | ------- | ---------- | --------------------------- |\n| 2021-06-09        | 1.0     | Yan Luo    | Tasks updates               |\n| 2020-11-10        | 1.0     | Nayef      | Created the initial version |\n"
        },
        {
            "metadata": {},
            "cell_type": "markdown",
            "source": "Copyright \u00a9 2021 IBM Corporation. All rights reserved.\n"
        }
    ],
    "metadata": {
        "kernelspec": {
            "name": "python3",
            "display_name": "Python 3.8",
            "language": "python"
        },
        "language_info": {
            "name": "python",
            "version": "3.8.12",
            "mimetype": "text/x-python",
            "codemirror_mode": {
                "name": "ipython",
                "version": 3
            },
            "pygments_lexer": "ipython3",
            "nbconvert_exporter": "python",
            "file_extension": ".py"
        }
    },
    "nbformat": 4,
    "nbformat_minor": 4
}